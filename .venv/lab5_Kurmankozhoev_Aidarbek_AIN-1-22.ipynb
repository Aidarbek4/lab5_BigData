{
 "cells": [
  {
   "metadata": {},
   "cell_type": "markdown",
   "source": "# Работа с load_diabetes()",
   "id": "7a60942cb352d247"
  },
  {
   "metadata": {
    "ExecuteTime": {
     "end_time": "2024-11-10T13:56:21.918894Z",
     "start_time": "2024-11-10T13:56:21.858320Z"
    }
   },
   "cell_type": "code",
   "outputs": [],
   "execution_count": 104,
   "source": [
    "import numpy as np\n",
    "from sklearn.datasets import load_diabetes\n",
    "from sklearn.model_selection import train_test_split, GridSearchCV\n",
    "from sklearn.neighbors import KNeighborsRegressor\n",
    "from sklearn.linear_model import LinearRegression, Ridge, Lasso\n",
    "from sklearn.metrics import mean_squared_error, r2_score\n",
    "\n",
    "# Загрузка и разделение данных\n",
    "diabetes = load_diabetes()\n",
    "X_train, X_test, y_train, y_test = train_test_split(diabetes.data, diabetes.target, test_size=0.2, random_state=42)\n"
   ],
   "id": "8019919e0c03ab91"
  },
  {
   "metadata": {},
   "cell_type": "markdown",
   "source": "### Модель KNeighborsRegressor",
   "id": "8967dea780f7c077"
  },
  {
   "metadata": {
    "ExecuteTime": {
     "end_time": "2024-11-10T13:56:32.934374Z",
     "start_time": "2024-11-10T13:56:32.833066Z"
    }
   },
   "cell_type": "code",
   "source": [
    "# Настройка параметров для KNeighborsRegressor\n",
    "param_grid_knn = {'n_neighbors': range(1, 11)}\n",
    "grid_search_knn = GridSearchCV(KNeighborsRegressor(), param_grid_knn, scoring='neg_mean_squared_error', cv=5)\n",
    "grid_search_knn.fit(X_train, y_train)\n",
    "\n",
    "# Лучшая модель и её параметры\n",
    "best_knn = grid_search_knn.best_estimator_\n",
    "y_pred_knn = best_knn.predict(X_test)\n",
    "mse_knn = mean_squared_error(y_test, y_pred_knn)\n",
    "r2_knn = r2_score(y_test, y_pred_knn)\n",
    "\n",
    "print(\"KNeighborsRegressor:\")\n",
    "print(f\"Best Params: {grid_search_knn.best_params_}\")\n",
    "print(f\"MSE: {mse_knn:.2f}, R2 Score: {r2_knn:.2f}\")\n"
   ],
   "id": "c82c01903fd29bc3",
   "outputs": [
    {
     "name": "stdout",
     "output_type": "stream",
     "text": [
      "KNeighborsRegressor:\n",
      "Best Params: {'n_neighbors': 9}\n",
      "MSE: 3082.94, R2 Score: 0.42\n"
     ]
    }
   ],
   "execution_count": 105
  },
  {
   "metadata": {},
   "cell_type": "markdown",
   "source": "### Модель LinearRegression",
   "id": "4b373e21e0cba30a"
  },
  {
   "metadata": {
    "ExecuteTime": {
     "end_time": "2024-11-10T13:56:40.691994Z",
     "start_time": "2024-11-10T13:56:40.682889Z"
    }
   },
   "cell_type": "code",
   "source": [
    "# Обучение модели LinearRegression\n",
    "linear_reg = LinearRegression()\n",
    "linear_reg.fit(X_train, y_train)\n",
    "\n",
    "# Оценка модели\n",
    "y_pred_lr = linear_reg.predict(X_test)\n",
    "mse_lr = mean_squared_error(y_test, y_pred_lr)\n",
    "r2_lr = r2_score(y_test, y_pred_lr)\n",
    "\n",
    "print(\"LinearRegression:\")\n",
    "print(f\"MSE: {mse_lr:.2f}, R2 Score: {r2_lr:.2f}\")\n"
   ],
   "id": "bd5287a9bee4b3",
   "outputs": [
    {
     "name": "stdout",
     "output_type": "stream",
     "text": [
      "LinearRegression:\n",
      "MSE: 2900.19, R2 Score: 0.45\n"
     ]
    }
   ],
   "execution_count": 106
  },
  {
   "metadata": {},
   "cell_type": "markdown",
   "source": "### Модель Ridge",
   "id": "52c44a785af4c15d"
  },
  {
   "metadata": {
    "ExecuteTime": {
     "end_time": "2024-11-10T13:56:53.736917Z",
     "start_time": "2024-11-10T13:56:53.669525Z"
    }
   },
   "cell_type": "code",
   "source": [
    "# Настройка параметров для Ridge\n",
    "param_grid_ridge = {'alpha': np.logspace(-3, 3, 7)}\n",
    "grid_search_ridge = GridSearchCV(Ridge(), param_grid_ridge, scoring='neg_mean_squared_error', cv=5)\n",
    "grid_search_ridge.fit(X_train, y_train)\n",
    "\n",
    "# Лучшая модель и её параметры\n",
    "best_ridge = grid_search_ridge.best_estimator_\n",
    "y_pred_ridge = best_ridge.predict(X_test)\n",
    "mse_ridge = mean_squared_error(y_test, y_pred_ridge)\n",
    "r2_ridge = r2_score(y_test, y_pred_ridge)\n",
    "\n",
    "print(\"Ridge:\")\n",
    "print(f\"Best Params: {grid_search_ridge.best_params_}\")\n",
    "print(f\"MSE: {mse_ridge:.2f}, R2 Score: {r2_ridge:.2f}\")\n"
   ],
   "id": "11f4dfebbbc4aac4",
   "outputs": [
    {
     "name": "stdout",
     "output_type": "stream",
     "text": [
      "Ridge:\n",
      "Best Params: {'alpha': np.float64(0.1)}\n",
      "MSE: 2856.49, R2 Score: 0.46\n"
     ]
    }
   ],
   "execution_count": 107
  },
  {
   "metadata": {},
   "cell_type": "markdown",
   "source": "### Модель Lasso",
   "id": "bb7d626f3e42ba88"
  },
  {
   "metadata": {
    "ExecuteTime": {
     "end_time": "2024-11-10T13:57:05.192919Z",
     "start_time": "2024-11-10T13:57:05.135173Z"
    }
   },
   "cell_type": "code",
   "source": [
    "# Настройка параметров для Lasso\n",
    "param_grid_lasso = {'alpha': np.logspace(-3, 3, 7)}\n",
    "grid_search_lasso = GridSearchCV(Lasso(), param_grid_lasso, scoring='neg_mean_squared_error', cv=5)\n",
    "grid_search_lasso.fit(X_train, y_train)\n",
    "\n",
    "# Лучшая модель и её параметры\n",
    "best_lasso = grid_search_lasso.best_estimator_\n",
    "y_pred_lasso = best_lasso.predict(X_test)\n",
    "mse_lasso = mean_squared_error(y_test, y_pred_lasso)\n",
    "r2_lasso = r2_score(y_test, y_pred_lasso)\n",
    "\n",
    "print(\"Lasso:\")\n",
    "print(f\"Best Params: {grid_search_lasso.best_params_}\")\n",
    "print(f\"MSE: {mse_lasso:.2f}, R2 Score: {r2_lasso:.2f}\")\n"
   ],
   "id": "a34786fc567fa95c",
   "outputs": [
    {
     "name": "stdout",
     "output_type": "stream",
     "text": [
      "Lasso:\n",
      "Best Params: {'alpha': np.float64(0.1)}\n",
      "MSE: 2798.19, R2 Score: 0.47\n"
     ]
    }
   ],
   "execution_count": 108
  },
  {
   "metadata": {},
   "cell_type": "markdown",
   "source": "# Работа с load_linnerud()",
   "id": "149633e099dc04ea"
  },
  {
   "metadata": {
    "ExecuteTime": {
     "end_time": "2024-11-10T14:00:00.685878Z",
     "start_time": "2024-11-10T14:00:00.597004Z"
    }
   },
   "cell_type": "code",
   "source": [
    "import numpy as np\n",
    "from sklearn.datasets import load_linnerud\n",
    "from sklearn.model_selection import train_test_split, GridSearchCV\n",
    "from sklearn.neighbors import KNeighborsRegressor\n",
    "from sklearn.linear_model import LinearRegression, Ridge, Lasso\n",
    "from sklearn.metrics import mean_squared_error, r2_score\n",
    "\n",
    "# Загрузка данных\n",
    "linnerud = load_linnerud()\n",
    "X = linnerud.data\n",
    "y = linnerud.target[:, 0]  # Выбираем первую целевую переменную (Weight)\n",
    "\n",
    "# Разделение на тренировочную и тестовую выборки\n",
    "X_train, X_test, y_train, y_test = train_test_split(X, y, test_size=0.2, random_state=42)\n"
   ],
   "id": "7c8854ddcaaa9f15",
   "outputs": [],
   "execution_count": 109
  },
  {
   "metadata": {},
   "cell_type": "markdown",
   "source": "### Модель KNeighborsRegressor",
   "id": "20f30c917968f67a"
  },
  {
   "metadata": {
    "ExecuteTime": {
     "end_time": "2024-11-10T14:00:08.665309Z",
     "start_time": "2024-11-10T14:00:08.091824Z"
    }
   },
   "cell_type": "code",
   "source": [
    "# Настройка параметров для KNeighborsRegressor\n",
    "param_grid_knn = {'n_neighbors': range(1, 11)}\n",
    "grid_search_knn = GridSearchCV(KNeighborsRegressor(), param_grid_knn, scoring='neg_mean_squared_error', cv=5)\n",
    "grid_search_knn.fit(X_train, y_train)\n",
    "\n",
    "# Лучшая модель и её параметры\n",
    "best_knn = grid_search_knn.best_estimator_\n",
    "y_pred_knn = best_knn.predict(X_test)\n",
    "mse_knn = mean_squared_error(y_test, y_pred_knn)\n",
    "r2_knn = r2_score(y_test, y_pred_knn)\n",
    "\n",
    "print(\"KNeighborsRegressor:\")\n",
    "print(f\"Best Params: {grid_search_knn.best_params_}\")\n",
    "print(f\"MSE: {mse_knn:.2f}, R2 Score: {r2_knn:.2f}\")\n"
   ],
   "id": "d09ecc6d85bf307b",
   "outputs": [
    {
     "name": "stdout",
     "output_type": "stream",
     "text": [
      "KNeighborsRegressor:\n",
      "Best Params: {'n_neighbors': 7}\n",
      "MSE: 435.56, R2 Score: -0.55\n"
     ]
    }
   ],
   "execution_count": 110
  },
  {
   "metadata": {},
   "cell_type": "markdown",
   "source": "### Модель LinearRegression",
   "id": "d90374e56b8d95b8"
  },
  {
   "metadata": {
    "ExecuteTime": {
     "end_time": "2024-11-10T14:00:17.497323Z",
     "start_time": "2024-11-10T14:00:17.490830Z"
    }
   },
   "cell_type": "code",
   "source": [
    "# Обучение модели LinearRegression\n",
    "linear_reg = LinearRegression()\n",
    "linear_reg.fit(X_train, y_train)\n",
    "\n",
    "# Оценка модели\n",
    "y_pred_lr = linear_reg.predict(X_test)\n",
    "mse_lr = mean_squared_error(y_test, y_pred_lr)\n",
    "r2_lr = r2_score(y_test, y_pred_lr)\n",
    "\n",
    "print(\"LinearRegression:\")\n",
    "print(f\"MSE: {mse_lr:.2f}, R2 Score: {r2_lr:.2f}\")\n"
   ],
   "id": "18d8803525bbdc00",
   "outputs": [
    {
     "name": "stdout",
     "output_type": "stream",
     "text": [
      "LinearRegression:\n",
      "MSE: 630.78, R2 Score: -1.24\n"
     ]
    }
   ],
   "execution_count": 111
  },
  {
   "metadata": {},
   "cell_type": "markdown",
   "source": "### Модель Ridge",
   "id": "f0bd0b064f183677"
  },
  {
   "metadata": {
    "ExecuteTime": {
     "end_time": "2024-11-10T14:00:31.845429Z",
     "start_time": "2024-11-10T14:00:31.795111Z"
    }
   },
   "cell_type": "code",
   "source": [
    "# Настройка параметров для Ridge\n",
    "param_grid_ridge = {'alpha': np.logspace(-3, 3, 7)}\n",
    "grid_search_ridge = GridSearchCV(Ridge(), param_grid_ridge, scoring='neg_mean_squared_error', cv=5)\n",
    "grid_search_ridge.fit(X_train, y_train)\n",
    "\n",
    "# Лучшая модель и её параметры\n",
    "best_ridge = grid_search_ridge.best_estimator_\n",
    "y_pred_ridge = best_ridge.predict(X_test)\n",
    "mse_ridge = mean_squared_error(y_test, y_pred_ridge)\n",
    "r2_ridge = r2_score(y_test, y_pred_ridge)\n",
    "\n",
    "print(\"Ridge:\")\n",
    "print(f\"Best Params: {grid_search_ridge.best_params_}\")\n",
    "print(f\"MSE: {mse_ridge:.2f}, R2 Score: {r2_ridge:.2f}\")\n"
   ],
   "id": "6a279cdba0d8ab2c",
   "outputs": [
    {
     "name": "stdout",
     "output_type": "stream",
     "text": [
      "Ridge:\n",
      "Best Params: {'alpha': np.float64(1000.0)}\n",
      "MSE: 553.12, R2 Score: -0.97\n"
     ]
    }
   ],
   "execution_count": 112
  },
  {
   "metadata": {},
   "cell_type": "markdown",
   "source": "### Модель Lasso",
   "id": "14aafcfe6ba09e95"
  },
  {
   "metadata": {
    "ExecuteTime": {
     "end_time": "2024-11-10T14:00:39.505701Z",
     "start_time": "2024-11-10T14:00:39.444886Z"
    }
   },
   "cell_type": "code",
   "source": [
    "# Настройка параметров для Lasso\n",
    "param_grid_lasso = {'alpha': np.logspace(-3, 3, 7)}\n",
    "grid_search_lasso = GridSearchCV(Lasso(), param_grid_lasso, scoring='neg_mean_squared_error', cv=5)\n",
    "grid_search_lasso.fit(X_train, y_train)\n",
    "\n",
    "# Лучшая модель и её параметры\n",
    "best_lasso = grid_search_lasso.best_estimator_\n",
    "y_pred_lasso = best_lasso.predict(X_test)\n",
    "mse_lasso = mean_squared_error(y_test, y_pred_lasso)\n",
    "r2_lasso = r2_score(y_test, y_pred_lasso)\n",
    "\n",
    "print(\"Lasso:\")\n",
    "print(f\"Best Params: {grid_search_lasso.best_params_}\")\n",
    "print(f\"MSE: {mse_lasso:.2f}, R2 Score: {r2_lasso:.2f}\")\n"
   ],
   "id": "1997c6016ff95609",
   "outputs": [
    {
     "name": "stdout",
     "output_type": "stream",
     "text": [
      "Lasso:\n",
      "Best Params: {'alpha': np.float64(100.0)}\n",
      "MSE: 501.32, R2 Score: -0.78\n"
     ]
    }
   ],
   "execution_count": 113
  },
  {
   "metadata": {},
   "cell_type": "markdown",
   "source": [
    "# Вывод\n",
    "KNeighborsRegressor показал хорошие результаты при подборе числа соседей, особенно на простом датасете load_linnerud. Однако его эффективность снижается на более сложных данных, как load_diabetes.\n",
    "\n",
    "LinearRegression обеспечивает базовое качество предсказаний, но ограничен в задачах с нелинейной зависимостью.\n",
    "\n",
    "Ridge и Lasso справились лучше на сложном датасете load_diabetes благодаря регуляризации, что снижает переобучение и помогает при мультиколлинеарности.\n",
    "\n",
    "Рекомендации:\n",
    "\n",
    "Для сложных данных лучше подходят регуляризованные модели (Ridge, Lasso).\n",
    "Для простых, линейных зависимостей хорошо работает LinearRegression и KNeighborsRegressor при настройке параметров."
   ],
   "id": "7c226b20c5e8c054"
  }
 ],
 "metadata": {
  "kernelspec": {
   "display_name": "Python 3",
   "language": "python",
   "name": "python3"
  },
  "language_info": {
   "codemirror_mode": {
    "name": "ipython",
    "version": 2
   },
   "file_extension": ".py",
   "mimetype": "text/x-python",
   "name": "python",
   "nbconvert_exporter": "python",
   "pygments_lexer": "ipython2",
   "version": "2.7.6"
  }
 },
 "nbformat": 4,
 "nbformat_minor": 5
}
